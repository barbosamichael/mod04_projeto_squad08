{
 "cells": [
  {
   "cell_type": "markdown",
   "id": "bf12fbda",
   "metadata": {},
   "source": [
    "1. Como se comportaram o preço dos combustíveis durante os dois meses citados? Os valores do etanol e da gasolina tiveram uma tendência de queda ou diminuição?\n",
    "2. Qual o preço médio da gasolina e do etanol nesses dois meses?\n",
    "3. Quais os 5 estados com o preço médio da gasolina e do etanol mais caros?\n",
    "4. Qual o preço médio da gasolina e do etanol por estado?\n",
    "5. Qual o município que possui o menor preço para a gasolina e para o etanol?\n",
    "6. Qual o município que possui o maior preço para a gasolina e para o etanol?\n",
    "7. Qual a região que possui o maior valor médio da gasolina?\n",
    "8. Qual a região que possui o menor valor médio do etanol?\n",
    "9. Há alguma correlação entre o valor do combustível (gasolina e etanol) e a região onde ele é vendido?\n",
    "10. Há alguma correlação entre o valor do combustível (gasolina e etanol) e a bandeira que vende ele?"
   ]
  },
  {
   "cell_type": "code",
   "execution_count": 21,
   "id": "3518b165",
   "metadata": {},
   "outputs": [],
   "source": [
    "import numpy as np\n",
    "import pandas as pd\n",
    "from datetime import date"
   ]
  },
  {
   "cell_type": "code",
   "execution_count": 2,
   "id": "3eca1fcc",
   "metadata": {},
   "outputs": [],
   "source": [
    "df01_202305 = pd.read_csv('precos-gasolina-etanol-05.csv', sep=';')"
   ]
  },
  {
   "cell_type": "code",
   "execution_count": 3,
   "id": "8386b6ba",
   "metadata": {},
   "outputs": [],
   "source": [
    "df01_202306 = pd.read_csv('precos-gasolina-etanol-06.csv', sep=';')"
   ]
  },
  {
   "cell_type": "code",
   "execution_count": 4,
   "id": "ddd200ba",
   "metadata": {},
   "outputs": [
    {
     "data": {
      "text/plain": [
       "(58490, 16)"
      ]
     },
     "execution_count": 4,
     "metadata": {},
     "output_type": "execute_result"
    }
   ],
   "source": [
    "# vendo o tamando do DataFrame (número de linhas e colunas\n",
    "df01_202305.shape"
   ]
  },
  {
   "cell_type": "code",
   "execution_count": 5,
   "id": "efd9b435",
   "metadata": {},
   "outputs": [
    {
     "data": {
      "text/plain": [
       "(49041, 16)"
      ]
     },
     "execution_count": 5,
     "metadata": {},
     "output_type": "execute_result"
    }
   ],
   "source": [
    "# vendo o tamando do DataFrame (número de linhas e colunas\n",
    "df01_202306.shape"
   ]
  },
  {
   "cell_type": "markdown",
   "id": "9d56e586",
   "metadata": {},
   "source": [
    "df_row_reindex = pd.concat([df1, df2], ignore_index=True)\n",
    "\n",
    "df_row_reindex\n"
   ]
  },
  {
   "cell_type": "code",
   "execution_count": 7,
   "id": "6479858d",
   "metadata": {},
   "outputs": [],
   "source": [
    "# juntando os meses de maio e junho e ignorando o index\n",
    "df03_concat_reindex = pd.concat([df01_202305,df01_202306], ignore_index=True)"
   ]
  },
  {
   "cell_type": "code",
   "execution_count": 8,
   "id": "f384a345",
   "metadata": {},
   "outputs": [
    {
     "data": {
      "text/plain": [
       "(107531, 16)"
      ]
     },
     "execution_count": 8,
     "metadata": {},
     "output_type": "execute_result"
    }
   ],
   "source": [
    "df03_concat_reindex.shape"
   ]
  },
  {
   "cell_type": "code",
   "execution_count": 9,
   "id": "5da937de",
   "metadata": {},
   "outputs": [
    {
     "data": {
      "text/plain": [
       "107531"
      ]
     },
     "execution_count": 9,
     "metadata": {},
     "output_type": "execute_result"
    }
   ],
   "source": [
    "58490+49041"
   ]
  },
  {
   "cell_type": "code",
   "execution_count": 10,
   "id": "1b4036f0",
   "metadata": {
    "scrolled": true
   },
   "outputs": [
    {
     "data": {
      "text/plain": [
       "Index(['Regiao - Sigla', 'Estado - Sigla', 'Municipio', 'Revenda',\n",
       "       'CNPJ da Revenda', 'Nome da Rua', 'Numero Rua', 'Complemento', 'Bairro',\n",
       "       'Cep', 'Produto', 'Data da Coleta', 'Valor de Venda', 'Valor de Compra',\n",
       "       'Unidade de Medida', 'Bandeira'],\n",
       "      dtype='object')"
      ]
     },
     "execution_count": 10,
     "metadata": {},
     "output_type": "execute_result"
    }
   ],
   "source": [
    "df03_concat_reindex.columns"
   ]
  },
  {
   "cell_type": "code",
   "execution_count": 14,
   "id": "d4517296",
   "metadata": {},
   "outputs": [],
   "source": [
    "df04_columns_interesse = df03_concat_reindex[['Regiao - Sigla','Estado - Sigla',\n",
    "                                           'Municipio','Produto','Data da Coleta',\n",
    "                                           'Valor de Venda','Valor de Compra',\n",
    "                                           'Unidade de Medida','Bandeira']]"
   ]
  },
  {
   "cell_type": "code",
   "execution_count": 15,
   "id": "4790f731",
   "metadata": {},
   "outputs": [
    {
     "data": {
      "text/plain": [
       "(107531, 9)"
      ]
     },
     "execution_count": 15,
     "metadata": {},
     "output_type": "execute_result"
    }
   ],
   "source": [
    "df04_columns_interesse.shape"
   ]
  },
  {
   "cell_type": "code",
   "execution_count": 16,
   "id": "5f53ab2e",
   "metadata": {
    "scrolled": true
   },
   "outputs": [
    {
     "data": {
      "text/html": [
       "<div>\n",
       "<style scoped>\n",
       "    .dataframe tbody tr th:only-of-type {\n",
       "        vertical-align: middle;\n",
       "    }\n",
       "\n",
       "    .dataframe tbody tr th {\n",
       "        vertical-align: top;\n",
       "    }\n",
       "\n",
       "    .dataframe thead th {\n",
       "        text-align: right;\n",
       "    }\n",
       "</style>\n",
       "<table border=\"1\" class=\"dataframe\">\n",
       "  <thead>\n",
       "    <tr style=\"text-align: right;\">\n",
       "      <th></th>\n",
       "      <th>Regiao - Sigla</th>\n",
       "      <th>Estado - Sigla</th>\n",
       "      <th>Municipio</th>\n",
       "      <th>Produto</th>\n",
       "      <th>Data da Coleta</th>\n",
       "      <th>Valor de Venda</th>\n",
       "      <th>Valor de Compra</th>\n",
       "      <th>Unidade de Medida</th>\n",
       "      <th>Bandeira</th>\n",
       "    </tr>\n",
       "  </thead>\n",
       "  <tbody>\n",
       "    <tr>\n",
       "      <th>0</th>\n",
       "      <td>SE</td>\n",
       "      <td>SP</td>\n",
       "      <td>SOROCABA</td>\n",
       "      <td>ETANOL</td>\n",
       "      <td>01/05/2023</td>\n",
       "      <td>3,79</td>\n",
       "      <td>NaN</td>\n",
       "      <td>R$ / litro</td>\n",
       "      <td>BRANCA</td>\n",
       "    </tr>\n",
       "    <tr>\n",
       "      <th>1</th>\n",
       "      <td>SE</td>\n",
       "      <td>SP</td>\n",
       "      <td>SOROCABA</td>\n",
       "      <td>GASOLINA</td>\n",
       "      <td>01/05/2023</td>\n",
       "      <td>4,69</td>\n",
       "      <td>NaN</td>\n",
       "      <td>R$ / litro</td>\n",
       "      <td>BRANCA</td>\n",
       "    </tr>\n",
       "    <tr>\n",
       "      <th>2</th>\n",
       "      <td>N</td>\n",
       "      <td>AC</td>\n",
       "      <td>CRUZEIRO DO SUL</td>\n",
       "      <td>ETANOL</td>\n",
       "      <td>01/05/2023</td>\n",
       "      <td>5,49</td>\n",
       "      <td>NaN</td>\n",
       "      <td>R$ / litro</td>\n",
       "      <td>IPIRANGA</td>\n",
       "    </tr>\n",
       "    <tr>\n",
       "      <th>3</th>\n",
       "      <td>N</td>\n",
       "      <td>AC</td>\n",
       "      <td>CRUZEIRO DO SUL</td>\n",
       "      <td>GASOLINA ADITIVADA</td>\n",
       "      <td>01/05/2023</td>\n",
       "      <td>6,97</td>\n",
       "      <td>NaN</td>\n",
       "      <td>R$ / litro</td>\n",
       "      <td>IPIRANGA</td>\n",
       "    </tr>\n",
       "    <tr>\n",
       "      <th>4</th>\n",
       "      <td>N</td>\n",
       "      <td>AC</td>\n",
       "      <td>CRUZEIRO DO SUL</td>\n",
       "      <td>GASOLINA</td>\n",
       "      <td>01/05/2023</td>\n",
       "      <td>6,97</td>\n",
       "      <td>NaN</td>\n",
       "      <td>R$ / litro</td>\n",
       "      <td>IPIRANGA</td>\n",
       "    </tr>\n",
       "  </tbody>\n",
       "</table>\n",
       "</div>"
      ],
      "text/plain": [
       "  Regiao - Sigla Estado - Sigla        Municipio             Produto  \\\n",
       "0             SE             SP         SOROCABA              ETANOL   \n",
       "1             SE             SP         SOROCABA            GASOLINA   \n",
       "2              N             AC  CRUZEIRO DO SUL              ETANOL   \n",
       "3              N             AC  CRUZEIRO DO SUL  GASOLINA ADITIVADA   \n",
       "4              N             AC  CRUZEIRO DO SUL            GASOLINA   \n",
       "\n",
       "  Data da Coleta Valor de Venda  Valor de Compra Unidade de Medida  Bandeira  \n",
       "0     01/05/2023           3,79              NaN        R$ / litro    BRANCA  \n",
       "1     01/05/2023           4,69              NaN        R$ / litro    BRANCA  \n",
       "2     01/05/2023           5,49              NaN        R$ / litro  IPIRANGA  \n",
       "3     01/05/2023           6,97              NaN        R$ / litro  IPIRANGA  \n",
       "4     01/05/2023           6,97              NaN        R$ / litro  IPIRANGA  "
      ]
     },
     "execution_count": 16,
     "metadata": {},
     "output_type": "execute_result"
    }
   ],
   "source": [
    "df04_columns_interesse.head(5)"
   ]
  },
  {
   "cell_type": "markdown",
   "id": "ab94ef75",
   "metadata": {},
   "source": [
    "import datetime\n",
    "from datetime import date\n",
    "df[\"DT_NASC\"] = pd.to_datetime(df[\"DT_NASC\"], errors='coerce').dt.strftime(\"%d/%m/%Y\")"
   ]
  },
  {
   "cell_type": "code",
   "execution_count": 20,
   "id": "5d417639",
   "metadata": {
    "collapsed": true
   },
   "outputs": [
    {
     "name": "stdout",
     "output_type": "stream",
     "text": [
      "<class 'pandas.core.series.Series'>\n",
      "RangeIndex: 107531 entries, 0 to 107530\n",
      "Series name: Data da Coleta\n",
      "Non-Null Count   Dtype \n",
      "--------------   ----- \n",
      "107531 non-null  object\n",
      "dtypes: object(1)\n",
      "memory usage: 840.2+ KB\n"
     ]
    }
   ],
   "source": [
    "# Passando data da coleta como index do DataFrame, antes verificando o tipo da coluna\n",
    "df04_columns_interesse['Data da Coleta'].info()"
   ]
  },
  {
   "cell_type": "code",
   "execution_count": 24,
   "id": "b7d0cb00",
   "metadata": {
    "collapsed": true
   },
   "outputs": [
    {
     "name": "stderr",
     "output_type": "stream",
     "text": [
      "/home/mic/anaconda3/lib/python3.9/site-packages/pandas/core/tools/datetimes.py:1047: UserWarning: Parsing '15/05/2023' in DD/MM/YYYY format. Provide format or specify infer_datetime_format=True for consistent parsing.\n",
      "  cache_array = _maybe_cache(arg, format, cache, convert_listlike)\n",
      "/home/mic/anaconda3/lib/python3.9/site-packages/pandas/core/tools/datetimes.py:1047: UserWarning: Parsing '16/05/2023' in DD/MM/YYYY format. Provide format or specify infer_datetime_format=True for consistent parsing.\n",
      "  cache_array = _maybe_cache(arg, format, cache, convert_listlike)\n",
      "/home/mic/anaconda3/lib/python3.9/site-packages/pandas/core/tools/datetimes.py:1047: UserWarning: Parsing '17/05/2023' in DD/MM/YYYY format. Provide format or specify infer_datetime_format=True for consistent parsing.\n",
      "  cache_array = _maybe_cache(arg, format, cache, convert_listlike)\n",
      "/home/mic/anaconda3/lib/python3.9/site-packages/pandas/core/tools/datetimes.py:1047: UserWarning: Parsing '18/05/2023' in DD/MM/YYYY format. Provide format or specify infer_datetime_format=True for consistent parsing.\n",
      "  cache_array = _maybe_cache(arg, format, cache, convert_listlike)\n",
      "/home/mic/anaconda3/lib/python3.9/site-packages/pandas/core/tools/datetimes.py:1047: UserWarning: Parsing '19/05/2023' in DD/MM/YYYY format. Provide format or specify infer_datetime_format=True for consistent parsing.\n",
      "  cache_array = _maybe_cache(arg, format, cache, convert_listlike)\n",
      "/home/mic/anaconda3/lib/python3.9/site-packages/pandas/core/tools/datetimes.py:1047: UserWarning: Parsing '22/05/2023' in DD/MM/YYYY format. Provide format or specify infer_datetime_format=True for consistent parsing.\n",
      "  cache_array = _maybe_cache(arg, format, cache, convert_listlike)\n",
      "/home/mic/anaconda3/lib/python3.9/site-packages/pandas/core/tools/datetimes.py:1047: UserWarning: Parsing '23/05/2023' in DD/MM/YYYY format. Provide format or specify infer_datetime_format=True for consistent parsing.\n",
      "  cache_array = _maybe_cache(arg, format, cache, convert_listlike)\n",
      "/home/mic/anaconda3/lib/python3.9/site-packages/pandas/core/tools/datetimes.py:1047: UserWarning: Parsing '24/05/2023' in DD/MM/YYYY format. Provide format or specify infer_datetime_format=True for consistent parsing.\n",
      "  cache_array = _maybe_cache(arg, format, cache, convert_listlike)\n",
      "/home/mic/anaconda3/lib/python3.9/site-packages/pandas/core/tools/datetimes.py:1047: UserWarning: Parsing '25/05/2023' in DD/MM/YYYY format. Provide format or specify infer_datetime_format=True for consistent parsing.\n",
      "  cache_array = _maybe_cache(arg, format, cache, convert_listlike)\n",
      "/home/mic/anaconda3/lib/python3.9/site-packages/pandas/core/tools/datetimes.py:1047: UserWarning: Parsing '26/05/2023' in DD/MM/YYYY format. Provide format or specify infer_datetime_format=True for consistent parsing.\n",
      "  cache_array = _maybe_cache(arg, format, cache, convert_listlike)\n",
      "/home/mic/anaconda3/lib/python3.9/site-packages/pandas/core/tools/datetimes.py:1047: UserWarning: Parsing '29/05/2023' in DD/MM/YYYY format. Provide format or specify infer_datetime_format=True for consistent parsing.\n",
      "  cache_array = _maybe_cache(arg, format, cache, convert_listlike)\n",
      "/home/mic/anaconda3/lib/python3.9/site-packages/pandas/core/tools/datetimes.py:1047: UserWarning: Parsing '30/05/2023' in DD/MM/YYYY format. Provide format or specify infer_datetime_format=True for consistent parsing.\n",
      "  cache_array = _maybe_cache(arg, format, cache, convert_listlike)\n",
      "/home/mic/anaconda3/lib/python3.9/site-packages/pandas/core/tools/datetimes.py:1047: UserWarning: Parsing '31/05/2023' in DD/MM/YYYY format. Provide format or specify infer_datetime_format=True for consistent parsing.\n",
      "  cache_array = _maybe_cache(arg, format, cache, convert_listlike)\n",
      "/home/mic/anaconda3/lib/python3.9/site-packages/pandas/core/tools/datetimes.py:1047: UserWarning: Parsing '13/06/2023' in DD/MM/YYYY format. Provide format or specify infer_datetime_format=True for consistent parsing.\n",
      "  cache_array = _maybe_cache(arg, format, cache, convert_listlike)\n",
      "/home/mic/anaconda3/lib/python3.9/site-packages/pandas/core/tools/datetimes.py:1047: UserWarning: Parsing '14/06/2023' in DD/MM/YYYY format. Provide format or specify infer_datetime_format=True for consistent parsing.\n",
      "  cache_array = _maybe_cache(arg, format, cache, convert_listlike)\n",
      "/home/mic/anaconda3/lib/python3.9/site-packages/pandas/core/tools/datetimes.py:1047: UserWarning: Parsing '15/06/2023' in DD/MM/YYYY format. Provide format or specify infer_datetime_format=True for consistent parsing.\n",
      "  cache_array = _maybe_cache(arg, format, cache, convert_listlike)\n",
      "/home/mic/anaconda3/lib/python3.9/site-packages/pandas/core/tools/datetimes.py:1047: UserWarning: Parsing '16/06/2023' in DD/MM/YYYY format. Provide format or specify infer_datetime_format=True for consistent parsing.\n",
      "  cache_array = _maybe_cache(arg, format, cache, convert_listlike)\n",
      "/home/mic/anaconda3/lib/python3.9/site-packages/pandas/core/tools/datetimes.py:1047: UserWarning: Parsing '19/06/2023' in DD/MM/YYYY format. Provide format or specify infer_datetime_format=True for consistent parsing.\n",
      "  cache_array = _maybe_cache(arg, format, cache, convert_listlike)\n",
      "/home/mic/anaconda3/lib/python3.9/site-packages/pandas/core/tools/datetimes.py:1047: UserWarning: Parsing '20/06/2023' in DD/MM/YYYY format. Provide format or specify infer_datetime_format=True for consistent parsing.\n",
      "  cache_array = _maybe_cache(arg, format, cache, convert_listlike)\n",
      "/home/mic/anaconda3/lib/python3.9/site-packages/pandas/core/tools/datetimes.py:1047: UserWarning: Parsing '21/06/2023' in DD/MM/YYYY format. Provide format or specify infer_datetime_format=True for consistent parsing.\n",
      "  cache_array = _maybe_cache(arg, format, cache, convert_listlike)\n",
      "/home/mic/anaconda3/lib/python3.9/site-packages/pandas/core/tools/datetimes.py:1047: UserWarning: Parsing '22/06/2023' in DD/MM/YYYY format. Provide format or specify infer_datetime_format=True for consistent parsing.\n",
      "  cache_array = _maybe_cache(arg, format, cache, convert_listlike)\n",
      "/home/mic/anaconda3/lib/python3.9/site-packages/pandas/core/tools/datetimes.py:1047: UserWarning: Parsing '23/06/2023' in DD/MM/YYYY format. Provide format or specify infer_datetime_format=True for consistent parsing.\n",
      "  cache_array = _maybe_cache(arg, format, cache, convert_listlike)\n",
      "/home/mic/anaconda3/lib/python3.9/site-packages/pandas/core/tools/datetimes.py:1047: UserWarning: Parsing '26/06/2023' in DD/MM/YYYY format. Provide format or specify infer_datetime_format=True for consistent parsing.\n",
      "  cache_array = _maybe_cache(arg, format, cache, convert_listlike)\n",
      "/home/mic/anaconda3/lib/python3.9/site-packages/pandas/core/tools/datetimes.py:1047: UserWarning: Parsing '27/06/2023' in DD/MM/YYYY format. Provide format or specify infer_datetime_format=True for consistent parsing.\n",
      "  cache_array = _maybe_cache(arg, format, cache, convert_listlike)\n",
      "/home/mic/anaconda3/lib/python3.9/site-packages/pandas/core/tools/datetimes.py:1047: UserWarning: Parsing '28/06/2023' in DD/MM/YYYY format. Provide format or specify infer_datetime_format=True for consistent parsing.\n",
      "  cache_array = _maybe_cache(arg, format, cache, convert_listlike)\n",
      "/home/mic/anaconda3/lib/python3.9/site-packages/pandas/core/tools/datetimes.py:1047: UserWarning: Parsing '29/06/2023' in DD/MM/YYYY format. Provide format or specify infer_datetime_format=True for consistent parsing.\n",
      "  cache_array = _maybe_cache(arg, format, cache, convert_listlike)\n",
      "/home/mic/anaconda3/lib/python3.9/site-packages/pandas/core/tools/datetimes.py:1047: UserWarning: Parsing '30/06/2023' in DD/MM/YYYY format. Provide format or specify infer_datetime_format=True for consistent parsing.\n",
      "  cache_array = _maybe_cache(arg, format, cache, convert_listlike)\n",
      "/tmp/ipykernel_73212/346916239.py:2: SettingWithCopyWarning: \n",
      "A value is trying to be set on a copy of a slice from a DataFrame.\n",
      "Try using .loc[row_indexer,col_indexer] = value instead\n",
      "\n",
      "See the caveats in the documentation: https://pandas.pydata.org/pandas-docs/stable/user_guide/indexing.html#returning-a-view-versus-a-copy\n",
      "  df04_columns_interesse['Data da Coleta']=pd.to_datetime(\n"
     ]
    }
   ],
   "source": [
    "# modificando coluna Data da Coleta para date\n",
    "df04_columns_interesse['Data da Coleta']=pd.to_datetime(\n",
    "    df04_columns_interesse['Data da Coleta'], errors='coerce')"
   ]
  },
  {
   "cell_type": "code",
   "execution_count": 25,
   "id": "44f5fa3e",
   "metadata": {
    "collapsed": true
   },
   "outputs": [
    {
     "name": "stdout",
     "output_type": "stream",
     "text": [
      "<class 'pandas.core.series.Series'>\n",
      "RangeIndex: 107531 entries, 0 to 107530\n",
      "Series name: Data da Coleta\n",
      "Non-Null Count   Dtype         \n",
      "--------------   -----         \n",
      "107531 non-null  datetime64[ns]\n",
      "dtypes: datetime64[ns](1)\n",
      "memory usage: 840.2 KB\n"
     ]
    }
   ],
   "source": [
    "df04_columns_interesse['Data da Coleta'].info()"
   ]
  },
  {
   "cell_type": "code",
   "execution_count": 27,
   "id": "b5126f13",
   "metadata": {},
   "outputs": [],
   "source": [
    "# Agora modificando o index para o valor da Data da coleta\n",
    "df04_columns_interesse.index = df04_columns_interesse['Data da Coleta']"
   ]
  },
  {
   "cell_type": "code",
   "execution_count": 29,
   "id": "c178e8c4",
   "metadata": {
    "collapsed": true
   },
   "outputs": [
    {
     "data": {
      "text/html": [
       "<div>\n",
       "<style scoped>\n",
       "    .dataframe tbody tr th:only-of-type {\n",
       "        vertical-align: middle;\n",
       "    }\n",
       "\n",
       "    .dataframe tbody tr th {\n",
       "        vertical-align: top;\n",
       "    }\n",
       "\n",
       "    .dataframe thead th {\n",
       "        text-align: right;\n",
       "    }\n",
       "</style>\n",
       "<table border=\"1\" class=\"dataframe\">\n",
       "  <thead>\n",
       "    <tr style=\"text-align: right;\">\n",
       "      <th></th>\n",
       "      <th>Regiao - Sigla</th>\n",
       "      <th>Estado - Sigla</th>\n",
       "      <th>Municipio</th>\n",
       "      <th>Produto</th>\n",
       "      <th>Data da Coleta</th>\n",
       "      <th>Valor de Venda</th>\n",
       "      <th>Valor de Compra</th>\n",
       "      <th>Unidade de Medida</th>\n",
       "      <th>Bandeira</th>\n",
       "    </tr>\n",
       "    <tr>\n",
       "      <th>Data da Coleta</th>\n",
       "      <th></th>\n",
       "      <th></th>\n",
       "      <th></th>\n",
       "      <th></th>\n",
       "      <th></th>\n",
       "      <th></th>\n",
       "      <th></th>\n",
       "      <th></th>\n",
       "      <th></th>\n",
       "    </tr>\n",
       "  </thead>\n",
       "  <tbody>\n",
       "    <tr>\n",
       "      <th>2023-01-05</th>\n",
       "      <td>SE</td>\n",
       "      <td>SP</td>\n",
       "      <td>SOROCABA</td>\n",
       "      <td>ETANOL</td>\n",
       "      <td>2023-01-05</td>\n",
       "      <td>3,79</td>\n",
       "      <td>NaN</td>\n",
       "      <td>R$ / litro</td>\n",
       "      <td>BRANCA</td>\n",
       "    </tr>\n",
       "    <tr>\n",
       "      <th>2023-01-05</th>\n",
       "      <td>SE</td>\n",
       "      <td>SP</td>\n",
       "      <td>SOROCABA</td>\n",
       "      <td>GASOLINA</td>\n",
       "      <td>2023-01-05</td>\n",
       "      <td>4,69</td>\n",
       "      <td>NaN</td>\n",
       "      <td>R$ / litro</td>\n",
       "      <td>BRANCA</td>\n",
       "    </tr>\n",
       "    <tr>\n",
       "      <th>2023-01-05</th>\n",
       "      <td>N</td>\n",
       "      <td>AC</td>\n",
       "      <td>CRUZEIRO DO SUL</td>\n",
       "      <td>ETANOL</td>\n",
       "      <td>2023-01-05</td>\n",
       "      <td>5,49</td>\n",
       "      <td>NaN</td>\n",
       "      <td>R$ / litro</td>\n",
       "      <td>IPIRANGA</td>\n",
       "    </tr>\n",
       "    <tr>\n",
       "      <th>2023-01-05</th>\n",
       "      <td>N</td>\n",
       "      <td>AC</td>\n",
       "      <td>CRUZEIRO DO SUL</td>\n",
       "      <td>GASOLINA ADITIVADA</td>\n",
       "      <td>2023-01-05</td>\n",
       "      <td>6,97</td>\n",
       "      <td>NaN</td>\n",
       "      <td>R$ / litro</td>\n",
       "      <td>IPIRANGA</td>\n",
       "    </tr>\n",
       "    <tr>\n",
       "      <th>2023-01-05</th>\n",
       "      <td>N</td>\n",
       "      <td>AC</td>\n",
       "      <td>CRUZEIRO DO SUL</td>\n",
       "      <td>GASOLINA</td>\n",
       "      <td>2023-01-05</td>\n",
       "      <td>6,97</td>\n",
       "      <td>NaN</td>\n",
       "      <td>R$ / litro</td>\n",
       "      <td>IPIRANGA</td>\n",
       "    </tr>\n",
       "  </tbody>\n",
       "</table>\n",
       "</div>"
      ],
      "text/plain": [
       "               Regiao - Sigla Estado - Sigla        Municipio  \\\n",
       "Data da Coleta                                                  \n",
       "2023-01-05                 SE             SP         SOROCABA   \n",
       "2023-01-05                 SE             SP         SOROCABA   \n",
       "2023-01-05                  N             AC  CRUZEIRO DO SUL   \n",
       "2023-01-05                  N             AC  CRUZEIRO DO SUL   \n",
       "2023-01-05                  N             AC  CRUZEIRO DO SUL   \n",
       "\n",
       "                           Produto Data da Coleta Valor de Venda  \\\n",
       "Data da Coleta                                                     \n",
       "2023-01-05                  ETANOL     2023-01-05           3,79   \n",
       "2023-01-05                GASOLINA     2023-01-05           4,69   \n",
       "2023-01-05                  ETANOL     2023-01-05           5,49   \n",
       "2023-01-05      GASOLINA ADITIVADA     2023-01-05           6,97   \n",
       "2023-01-05                GASOLINA     2023-01-05           6,97   \n",
       "\n",
       "                Valor de Compra Unidade de Medida  Bandeira  \n",
       "Data da Coleta                                               \n",
       "2023-01-05                  NaN        R$ / litro    BRANCA  \n",
       "2023-01-05                  NaN        R$ / litro    BRANCA  \n",
       "2023-01-05                  NaN        R$ / litro  IPIRANGA  \n",
       "2023-01-05                  NaN        R$ / litro  IPIRANGA  \n",
       "2023-01-05                  NaN        R$ / litro  IPIRANGA  "
      ]
     },
     "execution_count": 29,
     "metadata": {},
     "output_type": "execute_result"
    }
   ],
   "source": [
    "df04_columns_interesse.head()"
   ]
  },
  {
   "cell_type": "code",
   "execution_count": 30,
   "id": "dd72b6fd",
   "metadata": {
    "collapsed": true
   },
   "outputs": [
    {
     "data": {
      "text/html": [
       "<div>\n",
       "<style scoped>\n",
       "    .dataframe tbody tr th:only-of-type {\n",
       "        vertical-align: middle;\n",
       "    }\n",
       "\n",
       "    .dataframe tbody tr th {\n",
       "        vertical-align: top;\n",
       "    }\n",
       "\n",
       "    .dataframe thead th {\n",
       "        text-align: right;\n",
       "    }\n",
       "</style>\n",
       "<table border=\"1\" class=\"dataframe\">\n",
       "  <thead>\n",
       "    <tr style=\"text-align: right;\">\n",
       "      <th></th>\n",
       "      <th>Regiao - Sigla</th>\n",
       "      <th>Estado - Sigla</th>\n",
       "      <th>Municipio</th>\n",
       "      <th>Produto</th>\n",
       "      <th>Data da Coleta</th>\n",
       "      <th>Valor de Venda</th>\n",
       "      <th>Valor de Compra</th>\n",
       "      <th>Unidade de Medida</th>\n",
       "      <th>Bandeira</th>\n",
       "    </tr>\n",
       "    <tr>\n",
       "      <th>Data da Coleta</th>\n",
       "      <th></th>\n",
       "      <th></th>\n",
       "      <th></th>\n",
       "      <th></th>\n",
       "      <th></th>\n",
       "      <th></th>\n",
       "      <th></th>\n",
       "      <th></th>\n",
       "      <th></th>\n",
       "    </tr>\n",
       "  </thead>\n",
       "  <tbody>\n",
       "    <tr>\n",
       "      <th>2023-06-30</th>\n",
       "      <td>NE</td>\n",
       "      <td>BA</td>\n",
       "      <td>CAMACARI</td>\n",
       "      <td>GASOLINA</td>\n",
       "      <td>2023-06-30</td>\n",
       "      <td>5,64</td>\n",
       "      <td>NaN</td>\n",
       "      <td>R$ / litro</td>\n",
       "      <td>BRANCA</td>\n",
       "    </tr>\n",
       "    <tr>\n",
       "      <th>2023-06-30</th>\n",
       "      <td>NE</td>\n",
       "      <td>BA</td>\n",
       "      <td>CAMACARI</td>\n",
       "      <td>ETANOL</td>\n",
       "      <td>2023-06-30</td>\n",
       "      <td>4,44</td>\n",
       "      <td>NaN</td>\n",
       "      <td>R$ / litro</td>\n",
       "      <td>BRANCA</td>\n",
       "    </tr>\n",
       "    <tr>\n",
       "      <th>2023-06-30</th>\n",
       "      <td>NE</td>\n",
       "      <td>BA</td>\n",
       "      <td>CAMACARI</td>\n",
       "      <td>GASOLINA ADITIVADA</td>\n",
       "      <td>2023-06-30</td>\n",
       "      <td>5,64</td>\n",
       "      <td>NaN</td>\n",
       "      <td>R$ / litro</td>\n",
       "      <td>BRANCA</td>\n",
       "    </tr>\n",
       "    <tr>\n",
       "      <th>2023-06-30</th>\n",
       "      <td>NE</td>\n",
       "      <td>BA</td>\n",
       "      <td>CAMACARI</td>\n",
       "      <td>GASOLINA</td>\n",
       "      <td>2023-06-30</td>\n",
       "      <td>5,64</td>\n",
       "      <td>NaN</td>\n",
       "      <td>R$ / litro</td>\n",
       "      <td>BRANCA</td>\n",
       "    </tr>\n",
       "    <tr>\n",
       "      <th>2023-06-30</th>\n",
       "      <td>NE</td>\n",
       "      <td>BA</td>\n",
       "      <td>CAMACARI</td>\n",
       "      <td>GASOLINA</td>\n",
       "      <td>2023-06-30</td>\n",
       "      <td>6</td>\n",
       "      <td>NaN</td>\n",
       "      <td>R$ / litro</td>\n",
       "      <td>IPIRANGA</td>\n",
       "    </tr>\n",
       "  </tbody>\n",
       "</table>\n",
       "</div>"
      ],
      "text/plain": [
       "               Regiao - Sigla Estado - Sigla Municipio             Produto  \\\n",
       "Data da Coleta                                                               \n",
       "2023-06-30                 NE             BA  CAMACARI            GASOLINA   \n",
       "2023-06-30                 NE             BA  CAMACARI              ETANOL   \n",
       "2023-06-30                 NE             BA  CAMACARI  GASOLINA ADITIVADA   \n",
       "2023-06-30                 NE             BA  CAMACARI            GASOLINA   \n",
       "2023-06-30                 NE             BA  CAMACARI            GASOLINA   \n",
       "\n",
       "               Data da Coleta Valor de Venda  Valor de Compra  \\\n",
       "Data da Coleta                                                  \n",
       "2023-06-30         2023-06-30           5,64              NaN   \n",
       "2023-06-30         2023-06-30           4,44              NaN   \n",
       "2023-06-30         2023-06-30           5,64              NaN   \n",
       "2023-06-30         2023-06-30           5,64              NaN   \n",
       "2023-06-30         2023-06-30              6              NaN   \n",
       "\n",
       "               Unidade de Medida  Bandeira  \n",
       "Data da Coleta                              \n",
       "2023-06-30            R$ / litro    BRANCA  \n",
       "2023-06-30            R$ / litro    BRANCA  \n",
       "2023-06-30            R$ / litro    BRANCA  \n",
       "2023-06-30            R$ / litro    BRANCA  \n",
       "2023-06-30            R$ / litro  IPIRANGA  "
      ]
     },
     "execution_count": 30,
     "metadata": {},
     "output_type": "execute_result"
    }
   ],
   "source": [
    "df04_columns_interesse.tail()"
   ]
  },
  {
   "cell_type": "markdown",
   "id": "69bae3a1",
   "metadata": {},
   "source": [
    "1. Como se comportaram o preço dos combustíveis durante os dois meses citados? Os valores do etanol e da gasolina tiveram uma tendência de queda ou diminuição?"
   ]
  },
  {
   "cell_type": "code",
   "execution_count": 31,
   "id": "f696343e",
   "metadata": {},
   "outputs": [
    {
     "data": {
      "text/plain": [
       "Index(['Regiao - Sigla', 'Estado - Sigla', 'Municipio', 'Produto',\n",
       "       'Data da Coleta', 'Valor de Venda', 'Valor de Compra',\n",
       "       'Unidade de Medida', 'Bandeira'],\n",
       "      dtype='object')"
      ]
     },
     "execution_count": 31,
     "metadata": {},
     "output_type": "execute_result"
    }
   ],
   "source": [
    "df04_columns_interesse.columns"
   ]
  },
  {
   "cell_type": "code",
   "execution_count": 38,
   "id": "d303fe7a",
   "metadata": {},
   "outputs": [],
   "source": [
    "# Para a primeira pergunta a variável (coluna) que interessa é a de venda e produto.\n",
    "# Como temos dois produtos diferentes, precismaos separa-los do Dataframe.\n",
    "gasolina = df04_columns_interesse[df04_columns_interesse['Produto']=='GASOLINA']"
   ]
  },
  {
   "cell_type": "code",
   "execution_count": 39,
   "id": "3f3e4c43",
   "metadata": {},
   "outputs": [
    {
     "data": {
      "text/plain": [
       "(40948, 9)"
      ]
     },
     "execution_count": 39,
     "metadata": {},
     "output_type": "execute_result"
    }
   ],
   "source": [
    "gasolina.shape"
   ]
  },
  {
   "cell_type": "code",
   "execution_count": 42,
   "id": "2626ecac",
   "metadata": {},
   "outputs": [],
   "source": [
    "etanol=df04_columns_interesse[df04_columns_interesse['Produto']=='ETANOL']"
   ]
  },
  {
   "cell_type": "code",
   "execution_count": 44,
   "id": "6f570510",
   "metadata": {},
   "outputs": [
    {
     "data": {
      "text/plain": [
       "(34935, 9)"
      ]
     },
     "execution_count": 44,
     "metadata": {},
     "output_type": "execute_result"
    }
   ],
   "source": [
    "etanol.shape"
   ]
  },
  {
   "cell_type": "code",
   "execution_count": 45,
   "id": "3a60a54a",
   "metadata": {},
   "outputs": [
    {
     "data": {
      "text/plain": [
       "75883"
      ]
     },
     "execution_count": 45,
     "metadata": {},
     "output_type": "execute_result"
    }
   ],
   "source": [
    "# verificando se o total de linhas bate com o original 107531. Temos um problema?\n",
    "40948+34935"
   ]
  },
  {
   "cell_type": "code",
   "execution_count": 46,
   "id": "8cb3362e",
   "metadata": {},
   "outputs": [
    {
     "data": {
      "text/plain": [
       "(107531, 9)"
      ]
     },
     "execution_count": 46,
     "metadata": {},
     "output_type": "execute_result"
    }
   ],
   "source": [
    "df04_columns_interesse.shape"
   ]
  },
  {
   "cell_type": "code",
   "execution_count": 52,
   "id": "99b56225",
   "metadata": {},
   "outputs": [
    {
     "data": {
      "text/plain": [
       "array(['ETANOL', 'GASOLINA', 'GASOLINA ADITIVADA'], dtype=object)"
      ]
     },
     "execution_count": 52,
     "metadata": {},
     "output_type": "execute_result"
    }
   ],
   "source": [
    "#Verificando os tipos de dados que temos em produto\n",
    "df04_columns_interesse['Produto'].unique()"
   ]
  },
  {
   "cell_type": "code",
   "execution_count": 58,
   "id": "0fb23670",
   "metadata": {},
   "outputs": [
    {
     "data": {
      "text/plain": [
       "Regiao - Sigla       31648\n",
       "Estado - Sigla       31648\n",
       "Municipio            31648\n",
       "Produto              31648\n",
       "Data da Coleta       31648\n",
       "Valor de Venda       31648\n",
       "Valor de Compra          0\n",
       "Unidade de Medida    31648\n",
       "Bandeira             31648\n",
       "dtype: int64"
      ]
     },
     "execution_count": 58,
     "metadata": {},
     "output_type": "execute_result"
    }
   ],
   "source": [
    "df04_columns_interesse[df04_columns_interesse['Produto']=='GASOLINA ADITIVADA'].count()"
   ]
  },
  {
   "cell_type": "code",
   "execution_count": 59,
   "id": "4019e192",
   "metadata": {},
   "outputs": [
    {
     "data": {
      "text/plain": [
       "Regiao - Sigla       34935\n",
       "Estado - Sigla       34935\n",
       "Municipio            34935\n",
       "Produto              34935\n",
       "Data da Coleta       34935\n",
       "Valor de Venda       34935\n",
       "Valor de Compra          0\n",
       "Unidade de Medida    34935\n",
       "Bandeira             34935\n",
       "dtype: int64"
      ]
     },
     "execution_count": 59,
     "metadata": {},
     "output_type": "execute_result"
    }
   ],
   "source": [
    "df04_columns_interesse[df04_columns_interesse['Produto']=='ETANOL'].count()"
   ]
  },
  {
   "cell_type": "code",
   "execution_count": 60,
   "id": "ad02076a",
   "metadata": {},
   "outputs": [
    {
     "data": {
      "text/plain": [
       "Regiao - Sigla       40948\n",
       "Estado - Sigla       40948\n",
       "Municipio            40948\n",
       "Produto              40948\n",
       "Data da Coleta       40948\n",
       "Valor de Venda       40948\n",
       "Valor de Compra          0\n",
       "Unidade de Medida    40948\n",
       "Bandeira             40948\n",
       "dtype: int64"
      ]
     },
     "execution_count": 60,
     "metadata": {},
     "output_type": "execute_result"
    }
   ],
   "source": [
    "df04_columns_interesse[df04_columns_interesse['Produto']=='GASOLINA'].count()"
   ]
  }
 ],
 "metadata": {
  "kernelspec": {
   "display_name": "Python 3 (ipykernel)",
   "language": "python",
   "name": "python3"
  },
  "language_info": {
   "codemirror_mode": {
    "name": "ipython",
    "version": 3
   },
   "file_extension": ".py",
   "mimetype": "text/x-python",
   "name": "python",
   "nbconvert_exporter": "python",
   "pygments_lexer": "ipython3",
   "version": "3.9.12"
  }
 },
 "nbformat": 4,
 "nbformat_minor": 5
}
